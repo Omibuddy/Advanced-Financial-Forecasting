{
 "cells": [
  {
   "cell_type": "code",
   "execution_count": 2,
   "metadata": {},
   "outputs": [],
   "source": [
    "import pandas as pd\n",
    "import json"
   ]
  },
  {
   "cell_type": "code",
   "execution_count": 7,
   "metadata": {},
   "outputs": [
    {
     "name": "stderr",
     "output_type": "stream",
     "text": [
      "/var/folders/3v/th4wmr295kj9nzlnngytb3100000gn/T/ipykernel_35062/2863785279.py:7: FutureWarning: DataFrame.fillna with 'method' is deprecated and will raise in a future version. Use obj.ffill() or obj.bfill() instead.\n",
      "  df.fillna(method=\"ffill\", inplace=True) #Forward - fill missing values\n"
     ]
    }
   ],
   "source": [
    "def cleanup():\n",
    "    with open(\"stock_data.json\", \"r\")as f:  # load data /.\\./.\\./\n",
    "        data = json.load(f)\n",
    "        \n",
    "        df = pd.DataFrame(data[\"Time Series (5min)\"]). T\n",
    "        df = df.apply(pd.to_numeric) #strings to floats\n",
    "        df.fillna(method=\"ffill\", inplace=True) #Forward - fill missing values\n",
    "        \n",
    "        #save freash clean data to new file\n",
    "        df.to_csv(\"cleaned_data.csv\")\n",
    "        \n",
    "if __name__==\"__main__\":\n",
    "    cleanup()\n",
    "        "
   ]
  }
 ],
 "metadata": {
  "kernelspec": {
   "display_name": "Python 3",
   "language": "python",
   "name": "python3"
  },
  "language_info": {
   "codemirror_mode": {
    "name": "ipython",
    "version": 3
   },
   "file_extension": ".py",
   "mimetype": "text/x-python",
   "name": "python",
   "nbconvert_exporter": "python",
   "pygments_lexer": "ipython3",
   "version": "3.10.16"
  }
 },
 "nbformat": 4,
 "nbformat_minor": 2
}

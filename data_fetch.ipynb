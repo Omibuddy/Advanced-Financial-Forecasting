{
 "cells": [
  {
   "cell_type": "code",
   "execution_count": 4,
   "metadata": {},
   "outputs": [],
   "source": [
    "import requests\n",
    "import json"
   ]
  },
  {
   "cell_type": "code",
   "execution_count": 5,
   "metadata": {},
   "outputs": [],
   "source": [
    "API_URL = \"https://www.alphavantage.co/query\"\n",
    "params = {\n",
    "    \"function\" : \"TIME_SERIES_INTRADAY\",\n",
    "    \"symbol\": \"AAPL\",\n",
    "    \"interval\": \"5min\",\n",
    "    \"apikey\": \"Z1POZ8AS8GTBM0NV\"\n",
    "}"
   ]
  },
  {
   "cell_type": "code",
   "execution_count": 6,
   "metadata": {},
   "outputs": [],
   "source": [
    "def fetch_stock_data():\n",
    "    response = requests.get(API_URL, params=params)\n",
    "    data = response.json()\n",
    "    \n",
    "    with open(\"stock_data.json\", \"w\") as f:  #save data to local file\n",
    "        json.dump(data, f)\n",
    "\n",
    "if __name__==\"__main__\":\n",
    "    fetch_stock_data()"
   ]
  }
 ],
 "metadata": {
  "kernelspec": {
   "display_name": "Python 3",
   "language": "python",
   "name": "python3"
  },
  "language_info": {
   "codemirror_mode": {
    "name": "ipython",
    "version": 3
   },
   "file_extension": ".py",
   "mimetype": "text/x-python",
   "name": "python",
   "nbconvert_exporter": "python",
   "pygments_lexer": "ipython3",
   "version": "3.10.16"
  }
 },
 "nbformat": 4,
 "nbformat_minor": 2
}
